{
 "cells": [
  {
   "cell_type": "markdown",
   "id": "a5e5be3d-1dc5-463f-8391-06a446b072f2",
   "metadata": {},
   "source": [
    "# ADP AMBER\n",
    "\n",
    "![ADP!](ADP2.png)\n",
    "\n",
    "Here we will run through an example of using emle-engine to perform an ML/MM simulation of Alanine-Dipeptide in water using AMBER.\n",
    "We will be using default settings here, so using the ANI-2x non-reactive MLP and the generic emle embedding model.\n",
    "\n",
    "The main differences between this and a normal submission script for an AMBER simulation are that you must launch an emle-server before the job, then stop the server after the job. Each step of the simulation, sander will send the information of the ML region to the server which predicts what the in vacuo energies and embedding energies and send it back. \n",
    "\n",
    "You can view the sander input/output files on the left, but they are exactly as you would expect for a normal sander simulation. Another file, \"server_log.txt\", is created which records the outputs from the server each step to say whether the calculation was successful or not."
   ]
  },
  {
   "cell_type": "code",
   "execution_count": null,
   "id": "2ce33f8b-232c-4282-8819-46723967d38d",
   "metadata": {},
   "outputs": [],
   "source": [
    "%%bash\n",
    "\n",
    "cd ADP_AMBER\n",
    "# Specify names in topology and coordinate files.\n",
    "PARM=adp.parm7\n",
    "CRD=adp.rst7\n",
    "\n",
    "# Remove and re-create the output directory.\n",
    "rm -rf output\n",
    "mkdir output\n",
    "\n",
    "# Switch to the output directory.\n",
    "cd output\n",
    "\n",
    "# Launch the emle-server in the background. (Sander will connect to this via ORCA.)\n",
    "emle-server > server_log.txt 2>&1 &\n",
    "\n",
    "# Launch sander.\n",
    "sander -O -i ../emle.in -o emle.out -p ../adp.parm7 -c ../adp.rst7 -r emle.ncrst -x emle.nc > store.txt 2>&1\n",
    "\n",
    "# Stop any running emle-server processes.\n",
    "emle-stop\n",
    "\n",
    "cd ../.."
   ]
  },
  {
   "cell_type": "markdown",
   "id": "f5c3907d-2232-4daf-a140-e91a70c93449",
   "metadata": {},
   "source": [
    "# ADP OpenMM\n",
    "\n",
    "Now we will perform the same simulation but using OpenMM, where an interface to emle-engine has been created using the Sire molecular simulation framework.\n",
    "\n",
    "Here, we load the system first."
   ]
  },
  {
   "cell_type": "code",
   "execution_count": 1,
   "id": "000ddd7d-f74d-4b39-83be-3ae92258f94b",
   "metadata": {},
   "outputs": [
    {
     "name": "stderr",
     "output_type": "stream",
     "text": [
      "/home/elliot/mambaforge/envs/emle-train-sire/lib/python3.12/site-packages/e3nn/o3/_wigner.py:10: FutureWarning: You are using `torch.load` with `weights_only=False` (the current default value), which uses the default pickle module implicitly. It is possible to construct malicious pickle data which will execute arbitrary code during unpickling (See https://github.com/pytorch/pytorch/blob/main/SECURITY.md#untrusted-models for more details). In a future release, the default value for `weights_only` will be flipped to `True`. This limits the functions that could be executed during unpickling. Arbitrary objects will no longer be allowed to be loaded via this mode unless they are explicitly allowlisted by the user via `torch.serialization.add_safe_globals`. We recommend you start setting `weights_only=True` for any use case where you don't have full control of the loaded file. Please open an issue on GitHub for any issues related to this experimental feature.\n",
      "  _Jd, _W3j_flat, _W3j_indices = torch.load(os.path.join(os.path.dirname(__file__), 'constants.pt'))\n"
     ]
    },
    {
     "data": {
      "application/vnd.jupyter.widget-view+json": {
       "model_id": "ec0a75d37b2b4c4582c7bce7cd08494e",
       "version_major": 2,
       "version_minor": 0
      },
      "text/plain": []
     },
     "metadata": {},
     "output_type": "display_data"
    }
   ],
   "source": [
    "import math\n",
    "import os\n",
    "import sys\n",
    "\n",
    "import numpy as np\n",
    "import scipy.io\n",
    "import matplotlib.pyplot as plt\n",
    "\n",
    "import openmm\n",
    "import openmm.unit as unit\n",
    "from openmm.app import *\n",
    "from openmm import CustomBondForce, CustomCVForce\n",
    "\n",
    "from emle.calculator import EMLECalculator\n",
    "\n",
    "import sire as sr\n",
    "\n",
    "# Load the ADP system for Sire\n",
    "mols = sr.load_test_files(\"ala.crd\", \"ala.top\")\n",
    "# Load the topology for OpenMM too\n",
    "prm = AmberPrmtopFile(f\"ala.top\")\n"
   ]
  },
  {
   "cell_type": "markdown",
   "id": "f5bcc934-9b02-43be-ac54-a2dbfac53481",
   "metadata": {},
   "source": [
    "# Creating the calculator\n",
    "Next we create the calculator to perform the ML calculation. Whilst the AMBER implementation requires an external server, this is not the case for OpenMM. Again, we use the defaults (ANI-2x and generic EMLE), and tell it to run on CPU (GPU is available but unnecessary for such a small system). \n",
    "\n",
    "To define the full system for simulation, we use \"sr.qm.emle\".\n",
    "The first input, \"mols\", tells it all the whole system. Next, we give it the ML region (\"mols[0]\" which means just the ADP) and lastly we give it the calculator to use to predict the ML region energy."
   ]
  },
  {
   "cell_type": "code",
   "execution_count": 2,
   "id": "fdb3d9fc-ad03-47a7-9eda-79a4e4e27aac",
   "metadata": {},
   "outputs": [
    {
     "name": "stdout",
     "output_type": "stream",
     "text": [
      "/home/elliot/mambaforge/envs/emle-train-sire/lib/python3.12/site-packages/torchani/resources/\n"
     ]
    }
   ],
   "source": [
    "calculator = EMLECalculator(device=\"cpu\")\n",
    "qm_mols, engine = sr.qm.emle(mols, mols[0], calculator)"
   ]
  },
  {
   "cell_type": "markdown",
   "id": "c0ce67e1-9c92-45a8-92ac-b7bcf2dd5a82",
   "metadata": {},
   "source": [
    "# Running the simulation\n",
    "\n",
    "First we have to create the dynamics object. Here we use 1fs timestep with no constraints (as would be expected for \"standard\" QM/MM simulations). We then create the OpenMM context, setup the output trajectory file and launch the simulation. \n",
    "\n",
    "We run the simulation for 1000 cycles of 10 steps, meaning we run the simulation for 10000 steps and every cycle (10 steps) the simulation writes to the trajectory."
   ]
  },
  {
   "cell_type": "code",
   "execution_count": 3,
   "id": "2a99f782-cf19-446e-a14a-e8f73ca98e77",
   "metadata": {},
   "outputs": [],
   "source": [
    "d = qm_mols.dynamics(\n",
    "    timestep=\"1fs\",\n",
    "    constraint=\"none\",\n",
    "    qm_engine=engine,\n",
    "    platform=\"cpu\",\n",
    ")\n"
   ]
  },
  {
   "cell_type": "code",
   "execution_count": 4,
   "id": "70501592-55d8-404a-a9b1-57150100941f",
   "metadata": {},
   "outputs": [],
   "source": [
    "from copy import deepcopy\n",
    "context = d.context()\n",
    "omm_system = context.getSystem()\n",
    "integrator = deepcopy(context.getIntegrator())\n",
    "new_context = openmm.Context(omm_system, integrator, context.getPlatform())\n",
    "new_context.setPositions(context.getState(getPositions=True).getPositions())"
   ]
  },
  {
   "cell_type": "code",
   "execution_count": 5,
   "id": "735c0037-262b-483b-b726-ae7176880e45",
   "metadata": {},
   "outputs": [],
   "source": [
    "# Production sampling.\n",
    "file_handle = open(f\"ADP_OpenMM/ADP_OpenMM.dcd\", \"bw\")\n",
    "dcd_file = DCDFile(file_handle, prm.topology, dt=integrator.getStepSize())\n",
    "for x in range(100):\n",
    "    integrator.step(10)\n",
    "    state = new_context.getState(getPositions=True)\n",
    "    positions = state.getPositions()\n",
    "    dcd_file.writeModel(positions)\n",
    "file_handle.close()"
   ]
  },
  {
   "cell_type": "markdown",
   "id": "c8c07a43-1377-4dc5-9442-abc52e5c9eb6",
   "metadata": {},
   "source": [
    "# Viewing the trajectory\n",
    "\n",
    "Here we use NGLviewer to view the output trajectory. The first option here views just the ADP whilst the second loads the whole ADP and water system."
   ]
  },
  {
   "cell_type": "code",
   "execution_count": 6,
   "id": "4acf0b95-08f3-4b79-a1f2-692e1695492a",
   "metadata": {},
   "outputs": [
    {
     "data": {
      "application/vnd.jupyter.widget-view+json": {
       "model_id": "9c3df0508c2d4a9fa3576e3d906e72be",
       "version_major": 2,
       "version_minor": 0
      },
      "text/plain": [
       "NGLWidget(max_frame=99)"
      ]
     },
     "metadata": {},
     "output_type": "display_data"
    }
   ],
   "source": [
    "traj = sr.load(\"ala.top\", \"ADP_OpenMM/ADP_OpenMM.dcd\")\n",
    "traj[0].trajectory().view()"
   ]
  },
  {
   "cell_type": "code",
   "execution_count": 7,
   "id": "a0c30c9f-cc70-435b-8be8-6f89e2a5a921",
   "metadata": {},
   "outputs": [
    {
     "data": {
      "application/vnd.jupyter.widget-view+json": {
       "model_id": "3dc3abec8df54c32a7ca28ef55bd5fbe",
       "version_major": 2,
       "version_minor": 0
      },
      "text/plain": [
       "NGLWidget(max_frame=99)"
      ]
     },
     "metadata": {},
     "output_type": "display_data"
    }
   ],
   "source": [
    "traj = sr.load(\"ala.top\", \"ADP_OpenMM/ADP_OpenMM.dcd\")\n",
    "traj.trajectory().view()"
   ]
  },
  {
   "cell_type": "markdown",
   "id": "82be2e09-6a25-4563-aef6-a3782e28213e",
   "metadata": {},
   "source": [
    "# ADP Error Analysis\n",
    "\n",
    "Another feature of emle-engine is the capability to perform error analysis of the model compared to QM/MM electrostatic embedding. By using a set of single point calculations from a trajectory generated by EMLE, the error in the static and induction components of the model can be found. \n",
    "\n",
    "Here we compare two different models, the generic EMLE model and a bespoke model optimised specifically for the ADP system ("
   ]
  },
  {
   "cell_type": "code",
   "execution_count": 8,
   "id": "de1a382b-4368-4e27-a9aa-5e08f1330d9d",
   "metadata": {},
   "outputs": [],
   "source": [
    "free_generic = scipy.io.loadmat('analyze_generic.mat', squeeze_me=True)\n"
   ]
  },
  {
   "cell_type": "code",
   "execution_count": 9,
   "id": "08d8ad58-2c91-4767-a731-1219db6cf6fa",
   "metadata": {},
   "outputs": [],
   "source": [
    "def get_rmse(a, b):\n",
    "    return np.sqrt(np.mean((a-b)**2))\n",
    "\n",
    "def get_static_rmse(data):\n",
    "    return get_rmse(data['E_static_qm'], data['E_static_emle'])\n",
    "\n",
    "def get_induced_rmse(data):\n",
    "    return get_rmse(data['E_induced_qm'], data['E_induced_emle'])\n",
    "\n",
    "def get_total_rmse(data):\n",
    "    return get_rmse(data['E_static_qm'] + data['E_induced_qm'], data['E_static_emle'] + data['E_induced_emle'])\n",
    "\n",
    "def get_errors(data):\n",
    "    static = get_static_rmse(data)\n",
    "    induced = get_induced_rmse(data)\n",
    "    total = get_total_rmse(data)\n",
    "    print(f'static: {static:5.3f} induced: {induced:5.3f} total: {total:5.3f} ')"
   ]
  },
  {
   "cell_type": "code",
   "execution_count": 10,
   "id": "d18f8507-95e7-4bb6-bce7-efdfc86eb20e",
   "metadata": {},
   "outputs": [
    {
     "name": "stdout",
     "output_type": "stream",
     "text": [
      "static: 1.734 induced: 0.804 total: 2.331 \n",
      "static: 1.856 induced: 0.359 total: 1.897 \n"
     ]
    }
   ],
   "source": [
    "get_errors(free_generic)\n"
   ]
  },
  {
   "cell_type": "markdown",
   "id": "d665691b-53bc-4f68-afc9-abbd637b72ad",
   "metadata": {},
   "source": [
    "# ADP dihedral angles\n",
    "\n",
    "Here you can see how to perform a simulation of the ADP with a biasing potential on the dihedral angles (for example for umbrella sampling)"
   ]
  }
 ],
 "metadata": {
  "kernelspec": {
   "display_name": "mlmm-workshop",
   "language": "python",
   "name": "mlmm-workshop"
  },
  "language_info": {
   "codemirror_mode": {
    "name": "ipython",
    "version": 3
   },
   "file_extension": ".py",
   "mimetype": "text/x-python",
   "name": "python",
   "nbconvert_exporter": "python",
   "pygments_lexer": "ipython3",
   "version": "3.12.8"
  }
 },
 "nbformat": 4,
 "nbformat_minor": 5
}
