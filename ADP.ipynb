{
 "cells": [
  {
   "cell_type": "raw",
   "id": "0362e307-4e97-44df-b34b-55a6d1c4b77a",
   "metadata": {},
   "source": [
    "ADP AMBER"
   ]
  },
  {
   "cell_type": "code",
   "execution_count": null,
   "id": "2ce33f8b-232c-4282-8819-46723967d38d",
   "metadata": {},
   "outputs": [],
   "source": [
    "%%bash\n",
    "emle-stop\n",
    "cd ADP_AMBER\n",
    "# Specify names in topology and coordinate files.\n",
    "PARM=adp.parm7\n",
    "CRD=adp.rst7\n",
    "\n",
    "# Remove and re-create the output directory.\n",
    "rm -rf output\n",
    "mkdir output\n",
    "\n",
    "# Switch to the output directory.\n",
    "cd output\n",
    "\n",
    "export EMLE_QM_XYZ_FREQUENCY=100\n",
    "export EMLE_QM_XYZ_FILE=qm.xyz\n",
    "export EMLE_PC_XYZ_FILE=pc.xyz\n",
    "\n",
    "# Launch the emle-server in the background. (Sander will connect to this via ORCA.)\n",
    "emle-server > server_log.txt 2>&1 &\n",
    "\n",
    "# Launch sander.\n",
    "sander -O -i ../emle.in -o emle.out -p ../adp.parm7 -c ../adp.rst7 -r emle.ncrst -x emle.nc > store.txt 2>&1\n",
    "\n",
    "# Stop any running emle-server processes.\n",
    "emle-stop\n",
    "\n",
    "cd ../.."
   ]
  },
  {
   "cell_type": "raw",
   "id": "ffbf529a-2783-4caa-a065-23cac67f7395",
   "metadata": {},
   "source": [
    "ADP OpenMM"
   ]
  },
  {
   "cell_type": "code",
   "execution_count": null,
   "id": "000ddd7d-f74d-4b39-83be-3ae92258f94b",
   "metadata": {},
   "outputs": [],
   "source": [
    "import math\n",
    "import os\n",
    "import sys\n",
    "\n",
    "import numpy as np\n",
    "import scipy.io\n",
    "import matplotlib.pyplot as plt\n",
    "\n",
    "import openmm\n",
    "import openmm.unit as unit\n",
    "from openmm.app import *\n",
    "from openmm import CustomBondForce, CustomCVForce\n",
    "\n",
    "from emle.calculator import EMLECalculator\n",
    "\n",
    "import sire as sr\n",
    "\n",
    "mols = sr.load_test_files(\"ala.crd\", \"ala.top\")\n",
    "f = sr.save(mols, \"output\", format=[\"PRM\"])\n",
    "prm = AmberPrmtopFile(f\"ala.top\")\n",
    "\n",
    "d = mols.dynamics(\n",
    "    timestep=\"1fs\",\n",
    "    constraint=\"none\",\n",
    "    platform=\"cpu\",\n",
    ")\n",
    "\n",
    "d.minimise()\n",
    "\n",
    "calculator = EMLECalculator(device=\"cpu\")\n",
    "qm_mols, engine = sr.qm.emle(mols, mols[0], calculator)"
   ]
  },
  {
   "cell_type": "code",
   "execution_count": null,
   "id": "2a99f782-cf19-446e-a14a-e8f73ca98e77",
   "metadata": {},
   "outputs": [],
   "source": [
    "d = qm_mols.dynamics(\n",
    "    timestep=\"1fs\",\n",
    "    constraint=\"none\",\n",
    "    qm_engine=engine,\n",
    "    platform=\"cpu\",\n",
    ")\n"
   ]
  },
  {
   "cell_type": "code",
   "execution_count": null,
   "id": "70501592-55d8-404a-a9b1-57150100941f",
   "metadata": {},
   "outputs": [],
   "source": [
    "from copy import deepcopy\n",
    "context = d.context()\n",
    "omm_system = context.getSystem()\n",
    "integrator = deepcopy(context.getIntegrator())"
   ]
  },
  {
   "cell_type": "code",
   "execution_count": null,
   "id": "360ff3db-bae1-4149-97b8-44c202e119f0",
   "metadata": {},
   "outputs": [],
   "source": [
    "new_context = openmm.Context(omm_system, integrator, context.getPlatform())\n",
    "new_context.setPositions(context.getState(getPositions=True).getPositions())\n"
   ]
  },
  {
   "cell_type": "code",
   "execution_count": null,
   "id": "38d9b48a-58a9-4e80-9c17-aae1eebc6373",
   "metadata": {},
   "outputs": [],
   "source": [
    "# Initial equilibrium.\n",
    "integrator.step(50)"
   ]
  },
  {
   "cell_type": "code",
   "execution_count": null,
   "id": "735c0037-262b-483b-b726-ae7176880e45",
   "metadata": {},
   "outputs": [],
   "source": [
    "# Production sampling.\n",
    "file_handle = open(f\"ADP_OpenMM/ADP_OpenMM.dcd\", \"bw\")\n",
    "dcd_file = DCDFile(file_handle, prm.topology, dt=integrator.getStepSize())\n",
    "for x in range(100):\n",
    "    integrator.step(100)\n",
    "    state = new_context.getState(getPositions=True)\n",
    "    positions = state.getPositions()\n",
    "    dcd_file.writeModel(positions)\n",
    "file_handle.close()"
   ]
  },
  {
   "cell_type": "code",
   "execution_count": null,
   "id": "4acf0b95-08f3-4b79-a1f2-692e1695492a",
   "metadata": {},
   "outputs": [],
   "source": [
    "traj = sr.load(\"ala.top\", \"ADP_OpenMM/ADP_OpenMM.dcd\")\n",
    "traj[0].trajectory().view()"
   ]
  },
  {
   "cell_type": "code",
   "execution_count": null,
   "id": "a0c30c9f-cc70-435b-8be8-6f89e2a5a921",
   "metadata": {},
   "outputs": [],
   "source": [
    "traj = sr.load(\"ala.top\", \"ADP_OpenMM/ADP_OpenMM.dcd\")\n",
    "traj.trajectory().view()"
   ]
  },
  {
   "cell_type": "raw",
   "id": "c3b8a4e2-e2cf-4918-a534-285def2ee558",
   "metadata": {},
   "source": [
    "ADP Error Analysis"
   ]
  },
  {
   "cell_type": "code",
   "execution_count": null,
   "id": "de1a382b-4368-4e27-a9aa-5e08f1330d9d",
   "metadata": {},
   "outputs": [],
   "source": [
    "%%bash\n",
    "cd ADP_AMBER/output\n",
    "\n",
    "emle-analyze --qm-xyz qm.xyz \\\n",
    "             --pc-xyz pc.xyz \\\n",
    "             --emle-model ../../ADP/generic/analyze_generic.mat \\\n",
    "             --orca-tarball ../../ADP/generic/generic.tar \\\n",
    "             --backend torchani \\\n",
    "             result.mat\n"
   ]
  },
  {
   "cell_type": "code",
   "execution_count": null,
   "id": "08d8ad58-2c91-4767-a731-1219db6cf6fa",
   "metadata": {},
   "outputs": [],
   "source": []
  }
 ],
 "metadata": {
  "kernelspec": {
   "display_name": "mlmm-workshop",
   "language": "python",
   "name": "mlmm-workshop"
  },
  "language_info": {
   "codemirror_mode": {
    "name": "ipython",
    "version": 3
   },
   "file_extension": ".py",
   "mimetype": "text/x-python",
   "name": "python",
   "nbconvert_exporter": "python",
   "pygments_lexer": "ipython3",
   "version": "3.12.8"
  }
 },
 "nbformat": 4,
 "nbformat_minor": 5
}
