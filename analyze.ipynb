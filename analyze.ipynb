{
 "cells": [
  {
   "cell_type": "code",
   "execution_count": 1,
   "id": "6b777dea-aba6-4ffb-8b88-6e17acdc92d1",
   "metadata": {},
   "outputs": [],
   "source": [
    "import numpy as np\n",
    "import scipy.io\n",
    "import matplotlib.pyplot as plt"
   ]
  },
  {
   "cell_type": "code",
   "execution_count": 8,
   "id": "b6b32f93-eaac-46df-9002-06826231bdea",
   "metadata": {},
   "outputs": [],
   "source": [
    "free_generic = scipy.io.loadmat('analyze_generic.mat', squeeze_me=True)\n",
    "free_bespoke = scipy.io.loadmat('analyze_bespoke.mat', squeeze_me=True)\n",
    "window_generic = scipy.io.loadmat('analyze_window_generic.mat', squeeze_me=True)\n",
    "window_bespoke = scipy.io.loadmat('analyze_window_bespoke.mat', squeeze_me=True)\n",
    "window_bespoke_reference = scipy.io.loadmat('analyze_window_bespoke_reference.mat', squeeze_me=True)"
   ]
  },
  {
   "cell_type": "code",
   "execution_count": 9,
   "id": "ef044530-7477-4bb5-8eef-3d4e0ae913fd",
   "metadata": {},
   "outputs": [],
   "source": [
    "def get_rmse(a, b):\n",
    "    return np.sqrt(np.mean((a-b)**2))\n",
    "\n",
    "def get_static_rmse(data):\n",
    "    return get_rmse(data['E_static_qm'], data['E_static_emle'])\n",
    "\n",
    "def get_induced_rmse(data):\n",
    "    return get_rmse(data['E_induced_qm'], data['E_induced_emle'])\n",
    "\n",
    "def get_total_rmse(data):\n",
    "    return get_rmse(data['E_static_qm'] + data['E_induced_qm'], data['E_static_emle'] + data['E_induced_emle'])\n",
    "\n",
    "def get_errors(data):\n",
    "    static = get_static_rmse(data)\n",
    "    induced = get_induced_rmse(data)\n",
    "    total = get_total_rmse(data)\n",
    "    print(f'static: {static:5.3f} induced: {induced:5.3f} total: {total:5.3f} ')"
   ]
  },
  {
   "cell_type": "code",
   "execution_count": 4,
   "id": "0f2742cd-f8c2-4f12-86f5-d71eaca16df7",
   "metadata": {},
   "outputs": [
    {
     "name": "stdout",
     "output_type": "stream",
     "text": [
      "static: 1.734 induced: 0.804 total: 2.331 \n"
     ]
    }
   ],
   "source": [
    "get_errors(free_generic)"
   ]
  },
  {
   "cell_type": "code",
   "execution_count": 5,
   "id": "79c12067-0418-401a-9d05-405dd57cb6b5",
   "metadata": {},
   "outputs": [
    {
     "name": "stdout",
     "output_type": "stream",
     "text": [
      "static: 1.856 induced: 0.359 total: 1.897 \n"
     ]
    }
   ],
   "source": [
    "get_errors(free_bespoke)"
   ]
  },
  {
   "cell_type": "code",
   "execution_count": 6,
   "id": "ebd9bc8e-ac74-4be8-aba9-37075159163b",
   "metadata": {},
   "outputs": [
    {
     "name": "stdout",
     "output_type": "stream",
     "text": [
      "static: 4.695 induced: 0.845 total: 5.370 \n"
     ]
    }
   ],
   "source": [
    "get_errors(window_generic)"
   ]
  },
  {
   "cell_type": "code",
   "execution_count": 7,
   "id": "3187c73a-7a84-47eb-a28c-0496c89fa9e9",
   "metadata": {},
   "outputs": [
    {
     "name": "stdout",
     "output_type": "stream",
     "text": [
      "static: 4.333 induced: 1.148 total: 3.461 \n"
     ]
    }
   ],
   "source": [
    "get_errors(window_bespoke)"
   ]
  },
  {
   "cell_type": "code",
   "execution_count": 10,
   "id": "5db25233-9af4-4f94-9213-cfc3baeff939",
   "metadata": {},
   "outputs": [
    {
     "name": "stdout",
     "output_type": "stream",
     "text": [
      "static: 4.333 induced: 0.684 total: 4.109 \n"
     ]
    }
   ],
   "source": [
    "get_errors(window_bespoke_reference)"
   ]
  },
  {
   "cell_type": "code",
   "execution_count": null,
   "id": "6b3fbe06-1331-413c-80bf-bcc4bd351f9a",
   "metadata": {},
   "outputs": [],
   "source": []
  }
 ],
 "metadata": {
  "kernelspec": {
   "display_name": "Python 3 (ipykernel)",
   "language": "python",
   "name": "python3"
  },
  "language_info": {
   "codemirror_mode": {
    "name": "ipython",
    "version": 3
   },
   "file_extension": ".py",
   "mimetype": "text/x-python",
   "name": "python",
   "nbconvert_exporter": "python",
   "pygments_lexer": "ipython3",
   "version": "3.12.8"
  }
 },
 "nbformat": 4,
 "nbformat_minor": 5
}
