{
 "cells": [
  {
   "cell_type": "markdown",
   "id": "a5e5be3d-1dc5-463f-8391-06a446b072f2",
   "metadata": {},
   "source": [
    "# ADP AMBER\n",
    "\n",
    "![ADP!](ADP2.png)\n",
    "\n",
    "Here we will run through an example of using emle-engine to perform an ML/MM simulation of Alanine-Dipeptide in water using AMBER.\n",
    "We will be using default settings here, so using the ANI-2x non-reactive MLP and the generic emle embedding model.\n",
    "\n",
    "The main differences between this and a normal submission script for an AMBER simulation are that you must launch an emle-server before the job, then stop the server after the job. Each step of the simulation, sander will send the information of the ML region to the server which predicts what the in vacuo energies and embedding energies and send it back. \n",
    "\n",
    "You can view the sander input/output files on the left, but they are exactly as you would expect for a normal sander simulation. Another file, \"server_log.txt\", is created which records the outputs from the server each step to say whether the calculation was successful or not."
   ]
  },
  {
   "cell_type": "code",
   "execution_count": null,
   "id": "2ce33f8b-232c-4282-8819-46723967d38d",
   "metadata": {},
   "outputs": [],
   "source": [
    "%%bash\n",
    "\n",
    "cd ADP_AMBER\n",
    "# Specify names in topology and coordinate files.\n",
    "PARM=adp.parm7\n",
    "CRD=adp.rst7\n",
    "\n",
    "# Remove and re-create the output directory.\n",
    "rm -rf output\n",
    "mkdir output\n",
    "\n",
    "# Switch to the output directory.\n",
    "cd output\n",
    "\n",
    "# Launch the emle-server in the background. (Sander will connect to this via ORCA.)\n",
    "emle-server > server_log.txt 2>&1 &\n",
    "\n",
    "# Launch sander.\n",
    "sander -O -i ../emle.in -o emle.out -p ../adp.parm7 -c ../adp.rst7 -r emle.ncrst -x emle.nc > store.txt 2>&1\n",
    "\n",
    "# Stop any running emle-server processes.\n",
    "emle-stop\n",
    "\n",
    "cd ../.."
   ]
  },
  {
   "cell_type": "markdown",
   "id": "f5c3907d-2232-4daf-a140-e91a70c93449",
   "metadata": {},
   "source": [
    "# ADP OpenMM\n",
    "\n",
    "Now we will perform the same simulation but using OpenMM, where an interface to emle-engine has been created using the Sire molecular simulation framework.\n",
    "\n",
    "Here, we load the system first."
   ]
  },
  {
   "cell_type": "code",
   "execution_count": 1,
   "id": "000ddd7d-f74d-4b39-83be-3ae92258f94b",
   "metadata": {},
   "outputs": [
    {
     "name": "stderr",
     "output_type": "stream",
     "text": [
      "/home/elliot/mambaforge/envs/emle-train-sire/lib/python3.12/site-packages/e3nn/o3/_wigner.py:10: FutureWarning: You are using `torch.load` with `weights_only=False` (the current default value), which uses the default pickle module implicitly. It is possible to construct malicious pickle data which will execute arbitrary code during unpickling (See https://github.com/pytorch/pytorch/blob/main/SECURITY.md#untrusted-models for more details). In a future release, the default value for `weights_only` will be flipped to `True`. This limits the functions that could be executed during unpickling. Arbitrary objects will no longer be allowed to be loaded via this mode unless they are explicitly allowlisted by the user via `torch.serialization.add_safe_globals`. We recommend you start setting `weights_only=True` for any use case where you don't have full control of the loaded file. Please open an issue on GitHub for any issues related to this experimental feature.\n",
      "  _Jd, _W3j_flat, _W3j_indices = torch.load(os.path.join(os.path.dirname(__file__), 'constants.pt'))\n"
     ]
    },
    {
     "data": {
      "application/vnd.jupyter.widget-view+json": {
       "model_id": "fd90ca493410427f9b25515979ddd34e",
       "version_major": 2,
       "version_minor": 0
      },
      "text/plain": []
     },
     "metadata": {},
     "output_type": "display_data"
    }
   ],
   "source": [
    "import math\n",
    "import os\n",
    "import sys\n",
    "\n",
    "import numpy as np\n",
    "import scipy.io\n",
    "import matplotlib.pyplot as plt\n",
    "\n",
    "import openmm\n",
    "import openmm.unit as unit\n",
    "from openmm.app import *\n",
    "from openmm import CustomBondForce, CustomCVForce\n",
    "\n",
    "from emle.calculator import EMLECalculator\n",
    "\n",
    "import sire as sr\n",
    "\n",
    "# Load the ADP system for Sire\n",
    "mols = sr.load_test_files(\"ala.crd\", \"ala.top\")\n",
    "# Load the topology for OpenMM too\n",
    "prm = AmberPrmtopFile(f\"ala.top\")\n"
   ]
  },
  {
   "cell_type": "markdown",
   "id": "f5bcc934-9b02-43be-ac54-a2dbfac53481",
   "metadata": {},
   "source": [
    "# Creating the calculator\n",
    "Next we create the calculator to perform the ML calculation. Whilst the AMBER implementation requires an external server, this is not the case for OpenMM. Again, we use the defaults (ANI-2x and generic EMLE), and tell it to run on CPU (GPU is available but unnecessary for such a small system). \n",
    "\n",
    "To define the full system for simulation, we use \"sr.qm.emle\".\n",
    "The first input, \"mols\", tells it all the whole system. Next, we give it the ML region (\"mols[0]\" which means just the ADP) and lastly we give it the calculator to use to predict the ML region energy."
   ]
  },
  {
   "cell_type": "code",
   "execution_count": null,
   "id": "fdb3d9fc-ad03-47a7-9eda-79a4e4e27aac",
   "metadata": {},
   "outputs": [],
   "source": [
    "calculator = EMLECalculator(device=\"cpu\")\n",
    "qm_mols, engine = sr.qm.emle(mols, mols[0], calculator)"
   ]
  },
  {
   "cell_type": "markdown",
   "id": "c0ce67e1-9c92-45a8-92ac-b7bcf2dd5a82",
   "metadata": {},
   "source": [
    "# Running the simulation\n",
    "\n",
    "First we have to create the dynamics object. Here we use 1fs timestep with no constraints (as would be expected for \"standard\" QM/MM simulations). We then create the OpenMM context, setup the output trajectory file and launch the simulation. \n",
    "\n",
    "We run the simulation for 1000 cycles of 10 steps, meaning we run the simulation for 10000 steps and every cycle (10 steps) the simulation writes to the trajectory."
   ]
  },
  {
   "cell_type": "code",
   "execution_count": null,
   "id": "2a99f782-cf19-446e-a14a-e8f73ca98e77",
   "metadata": {},
   "outputs": [],
   "source": [
    "d = qm_mols.dynamics(\n",
    "    timestep=\"1fs\",\n",
    "    constraint=\"none\",\n",
    "    qm_engine=engine,\n",
    "    platform=\"cpu\",\n",
    ")\n"
   ]
  },
  {
   "cell_type": "code",
   "execution_count": null,
   "id": "70501592-55d8-404a-a9b1-57150100941f",
   "metadata": {},
   "outputs": [],
   "source": [
    "from copy import deepcopy\n",
    "context = d.context()\n",
    "omm_system = context.getSystem()\n",
    "integrator = deepcopy(context.getIntegrator())\n",
    "new_context = openmm.Context(omm_system, integrator, context.getPlatform())\n",
    "new_context.setPositions(context.getState(getPositions=True).getPositions())"
   ]
  },
  {
   "cell_type": "code",
   "execution_count": null,
   "id": "735c0037-262b-483b-b726-ae7176880e45",
   "metadata": {},
   "outputs": [],
   "source": [
    "# Production sampling.\n",
    "file_handle = open(f\"ADP_OpenMM/ADP_OpenMM.dcd\", \"bw\")\n",
    "dcd_file = DCDFile(file_handle, prm.topology, dt=integrator.getStepSize())\n",
    "for x in range(100):\n",
    "    integrator.step(10)\n",
    "    state = new_context.getState(getPositions=True)\n",
    "    positions = state.getPositions()\n",
    "    dcd_file.writeModel(positions)\n",
    "file_handle.close()"
   ]
  },
  {
   "cell_type": "markdown",
   "id": "c8c07a43-1377-4dc5-9442-abc52e5c9eb6",
   "metadata": {},
   "source": [
    "# Viewing the trajectory\n",
    "\n",
    "Here we use NGLviewer to view the output trajectory. The first option here views just the ADP whilst the second loads the whole ADP and water system."
   ]
  },
  {
   "cell_type": "code",
   "execution_count": null,
   "id": "4acf0b95-08f3-4b79-a1f2-692e1695492a",
   "metadata": {},
   "outputs": [],
   "source": [
    "traj = sr.load(\"ala.top\", \"ADP_OpenMM/ADP_OpenMM.dcd\")\n",
    "traj[0].trajectory().view()"
   ]
  },
  {
   "cell_type": "code",
   "execution_count": null,
   "id": "a0c30c9f-cc70-435b-8be8-6f89e2a5a921",
   "metadata": {},
   "outputs": [],
   "source": [
    "traj = sr.load(\"ala.top\", \"ADP_OpenMM/ADP_OpenMM.dcd\")\n",
    "traj.trajectory().view()"
   ]
  },
  {
   "cell_type": "markdown",
   "id": "82be2e09-6a25-4563-aef6-a3782e28213e",
   "metadata": {},
   "source": [
    "# ADP Error Analysis\n",
    "\n",
    "Another feature of emle-engine is the capability to perform error analysis of the model compared to QM/MM electrostatic embedding. By using a set of single point calculations from a trajectory generated by EMLE, the error in the static and induction components of the model can be found. Here you can compute these values for a pre-generated trajectory.\n",
    "\n",
    "First we use the \"emle-analyze\" command which creates the output \n"
   ]
  },
  {
   "cell_type": "code",
   "execution_count": 4,
   "id": "126ee440-7016-423c-b1c2-b1c82ad60fa2",
   "metadata": {},
   "outputs": [
    {
     "name": "stderr",
     "output_type": "stream",
     "text": [
      "usage: emle-analyze [-h] --orca-tarball name.tar --emle-model name.mat\n",
      "                    [--backend {torchani,mace,deepmd}]\n",
      "                    [--deepmd-model name.pb] [--mace-model MACE_MODEL]\n",
      "                    --qm-xyz name.xyz --pc-xyz name.pc [--alpha]\n",
      "                    output\n",
      "emle-analyze: error: the following arguments are required: --emle-model\n"
     ]
    },
    {
     "data": {
      "text/html": [
       "<pre style=\"white-space:pre;overflow-x:auto;line-height:normal;font-family:Menlo,'DejaVu Sans Mono',consolas,'Courier New',monospace\"><span style=\"color: #800000; text-decoration-color: #800000\">╭─────────────────────────────── </span><span style=\"color: #800000; text-decoration-color: #800000; font-weight: bold\">Traceback </span><span style=\"color: #bf7f7f; text-decoration-color: #bf7f7f; font-weight: bold\">(most recent call last)</span><span style=\"color: #800000; text-decoration-color: #800000\"> ────────────────────────────────╮</span>\n",
       "<span style=\"color: #800000; text-decoration-color: #800000\">│</span> in <span style=\"color: #00ff00; text-decoration-color: #00ff00\">&lt;module&gt;</span>:<span style=\"color: #0000ff; text-decoration-color: #0000ff\">1</span>                                                                                    <span style=\"color: #800000; text-decoration-color: #800000\">│</span>\n",
       "<span style=\"color: #800000; text-decoration-color: #800000\">│</span>                                                                                                  <span style=\"color: #800000; text-decoration-color: #800000\">│</span>\n",
       "<span style=\"color: #800000; text-decoration-color: #800000\">│</span> <span style=\"color: #800000; text-decoration-color: #800000\">❱ </span>1 <span style=\"font-weight: bold; text-decoration: underline\">get_ipython().run_cell_magic(</span><span style=\"color: #808000; text-decoration-color: #808000; font-weight: bold; text-decoration: underline\">'bash'</span><span style=\"font-weight: bold; text-decoration: underline\">, </span><span style=\"color: #808000; text-decoration-color: #808000; font-weight: bold; text-decoration: underline\">''</span><span style=\"font-weight: bold; text-decoration: underline\">, </span><span style=\"color: #808000; text-decoration-color: #808000; font-weight: bold; text-decoration: underline\">'emle-analyze --qm-xyz qm.xyz \\\\\\n             </span>     <span style=\"color: #800000; text-decoration-color: #800000\">│</span>\n",
       "<span style=\"color: #800000; text-decoration-color: #800000\">│</span>   <span style=\"color: #7f7f7f; text-decoration-color: #7f7f7f\">2 </span>                                                                                             <span style=\"color: #800000; text-decoration-color: #800000\">│</span>\n",
       "<span style=\"color: #800000; text-decoration-color: #800000\">│</span>                                                                                                  <span style=\"color: #800000; text-decoration-color: #800000\">│</span>\n",
       "<span style=\"color: #800000; text-decoration-color: #800000\">│</span> <span style=\"color: #bfbf7f; text-decoration-color: #bfbf7f\">/home/elliot/mambaforge/envs/emle-train-sire/lib/python3.12/site-packages/IPython/core/</span><span style=\"color: #808000; text-decoration-color: #808000; font-weight: bold\">interacti</span> <span style=\"color: #800000; text-decoration-color: #800000\">│</span>\n",
       "<span style=\"color: #800000; text-decoration-color: #800000\">│</span> <span style=\"color: #808000; text-decoration-color: #808000; font-weight: bold\">veshell.py</span>:<span style=\"color: #0000ff; text-decoration-color: #0000ff\">2541</span> in <span style=\"color: #00ff00; text-decoration-color: #00ff00\">run_cell_magic</span>                                                                <span style=\"color: #800000; text-decoration-color: #800000\">│</span>\n",
       "<span style=\"color: #800000; text-decoration-color: #800000\">│</span>                                                                                                  <span style=\"color: #800000; text-decoration-color: #800000\">│</span>\n",
       "<span style=\"color: #800000; text-decoration-color: #800000\">│</span>   <span style=\"color: #7f7f7f; text-decoration-color: #7f7f7f\">2538 </span><span style=\"color: #7f7f7f; text-decoration-color: #7f7f7f\">│   │   │   </span>                                                                              <span style=\"color: #800000; text-decoration-color: #800000\">│</span>\n",
       "<span style=\"color: #800000; text-decoration-color: #800000\">│</span>   <span style=\"color: #7f7f7f; text-decoration-color: #7f7f7f\">2539 </span><span style=\"color: #7f7f7f; text-decoration-color: #7f7f7f\">│   │   │   </span><span style=\"color: #0000ff; text-decoration-color: #0000ff\">with</span> <span style=\"color: #00ffff; text-decoration-color: #00ffff\">self</span>.builtin_trap:                                                       <span style=\"color: #800000; text-decoration-color: #800000\">│</span>\n",
       "<span style=\"color: #800000; text-decoration-color: #800000\">│</span>   <span style=\"color: #7f7f7f; text-decoration-color: #7f7f7f\">2540 </span><span style=\"color: #7f7f7f; text-decoration-color: #7f7f7f\">│   │   │   │   </span>args = (magic_arg_s, cell)                                                <span style=\"color: #800000; text-decoration-color: #800000\">│</span>\n",
       "<span style=\"color: #800000; text-decoration-color: #800000\">│</span> <span style=\"color: #800000; text-decoration-color: #800000\">❱ </span>2541 <span style=\"color: #7f7f7f; text-decoration-color: #7f7f7f\">│   │   │   │   </span>result = <span style=\"font-weight: bold; text-decoration: underline\">fn(*args, **kwargs)</span>                                              <span style=\"color: #800000; text-decoration-color: #800000\">│</span>\n",
       "<span style=\"color: #800000; text-decoration-color: #800000\">│</span>   <span style=\"color: #7f7f7f; text-decoration-color: #7f7f7f\">2542 </span><span style=\"color: #7f7f7f; text-decoration-color: #7f7f7f\">│   │   │   </span>                                                                              <span style=\"color: #800000; text-decoration-color: #800000\">│</span>\n",
       "<span style=\"color: #800000; text-decoration-color: #800000\">│</span>   <span style=\"color: #7f7f7f; text-decoration-color: #7f7f7f\">2543 </span><span style=\"color: #7f7f7f; text-decoration-color: #7f7f7f\">│   │   │   </span><span style=\"color: #7f7f7f; text-decoration-color: #7f7f7f\"># The code below prevents the output from being displayed</span>                     <span style=\"color: #800000; text-decoration-color: #800000\">│</span>\n",
       "<span style=\"color: #800000; text-decoration-color: #800000\">│</span>   <span style=\"color: #7f7f7f; text-decoration-color: #7f7f7f\">2544 </span><span style=\"color: #7f7f7f; text-decoration-color: #7f7f7f\">│   │   │   </span><span style=\"color: #7f7f7f; text-decoration-color: #7f7f7f\"># when using magics with decorator @output_can_be_silenced</span>                    <span style=\"color: #800000; text-decoration-color: #800000\">│</span>\n",
       "<span style=\"color: #800000; text-decoration-color: #800000\">│</span>                                                                                                  <span style=\"color: #800000; text-decoration-color: #800000\">│</span>\n",
       "<span style=\"color: #800000; text-decoration-color: #800000\">│</span> <span style=\"color: #bfbf7f; text-decoration-color: #bfbf7f\">/home/elliot/mambaforge/envs/emle-train-sire/lib/python3.12/site-packages/IPython/core/magics/</span><span style=\"color: #808000; text-decoration-color: #808000; font-weight: bold\">sc</span> <span style=\"color: #800000; text-decoration-color: #800000\">│</span>\n",
       "<span style=\"color: #800000; text-decoration-color: #800000\">│</span> <span style=\"color: #808000; text-decoration-color: #808000; font-weight: bold\">ript.py</span>:<span style=\"color: #0000ff; text-decoration-color: #0000ff\">155</span> in <span style=\"color: #00ff00; text-decoration-color: #00ff00\">named_script_magic</span>                                                                <span style=\"color: #800000; text-decoration-color: #800000\">│</span>\n",
       "<span style=\"color: #800000; text-decoration-color: #800000\">│</span>                                                                                                  <span style=\"color: #800000; text-decoration-color: #800000\">│</span>\n",
       "<span style=\"color: #800000; text-decoration-color: #800000\">│</span>   <span style=\"color: #7f7f7f; text-decoration-color: #7f7f7f\">152 </span><span style=\"color: #7f7f7f; text-decoration-color: #7f7f7f\">│   │   │   │   </span>line = <span style=\"color: #808000; text-decoration-color: #808000\">\"%s %s\"</span> % (script, line)                                            <span style=\"color: #800000; text-decoration-color: #800000\">│</span>\n",
       "<span style=\"color: #800000; text-decoration-color: #800000\">│</span>   <span style=\"color: #7f7f7f; text-decoration-color: #7f7f7f\">153 </span><span style=\"color: #7f7f7f; text-decoration-color: #7f7f7f\">│   │   │   </span><span style=\"color: #0000ff; text-decoration-color: #0000ff\">else</span>:                                                                          <span style=\"color: #800000; text-decoration-color: #800000\">│</span>\n",
       "<span style=\"color: #800000; text-decoration-color: #800000\">│</span>   <span style=\"color: #7f7f7f; text-decoration-color: #7f7f7f\">154 </span><span style=\"color: #7f7f7f; text-decoration-color: #7f7f7f\">│   │   │   │   </span>line = script                                                              <span style=\"color: #800000; text-decoration-color: #800000\">│</span>\n",
       "<span style=\"color: #800000; text-decoration-color: #800000\">│</span> <span style=\"color: #800000; text-decoration-color: #800000\">❱ </span>155 <span style=\"color: #7f7f7f; text-decoration-color: #7f7f7f\">│   │   │   </span><span style=\"color: #0000ff; text-decoration-color: #0000ff\">return</span> <span style=\"color: #00ffff; text-decoration-color: #00ffff; font-weight: bold; text-decoration: underline\">self</span><span style=\"font-weight: bold; text-decoration: underline\">.shebang(line, cell)</span>                                                <span style=\"color: #800000; text-decoration-color: #800000\">│</span>\n",
       "<span style=\"color: #800000; text-decoration-color: #800000\">│</span>   <span style=\"color: #7f7f7f; text-decoration-color: #7f7f7f\">156 </span><span style=\"color: #7f7f7f; text-decoration-color: #7f7f7f\">│   │   </span>                                                                                   <span style=\"color: #800000; text-decoration-color: #800000\">│</span>\n",
       "<span style=\"color: #800000; text-decoration-color: #800000\">│</span>   <span style=\"color: #7f7f7f; text-decoration-color: #7f7f7f\">157 </span><span style=\"color: #7f7f7f; text-decoration-color: #7f7f7f\">│   │   </span><span style=\"color: #7f7f7f; text-decoration-color: #7f7f7f\"># write a basic docstring:</span>                                                         <span style=\"color: #800000; text-decoration-color: #800000\">│</span>\n",
       "<span style=\"color: #800000; text-decoration-color: #800000\">│</span>   <span style=\"color: #7f7f7f; text-decoration-color: #7f7f7f\">158 </span><span style=\"color: #7f7f7f; text-decoration-color: #7f7f7f\">│   │   </span>named_script_magic.<span style=\"color: #ff0000; text-decoration-color: #ff0000\">__doc__</span> = \\                                                     <span style=\"color: #800000; text-decoration-color: #800000\">│</span>\n",
       "<span style=\"color: #800000; text-decoration-color: #800000\">│</span>                                                                                                  <span style=\"color: #800000; text-decoration-color: #800000\">│</span>\n",
       "<span style=\"color: #800000; text-decoration-color: #800000\">│</span> <span style=\"color: #bfbf7f; text-decoration-color: #bfbf7f\">/home/elliot/mambaforge/envs/emle-train-sire/lib/python3.12/site-packages/IPython/core/magics/</span><span style=\"color: #808000; text-decoration-color: #808000; font-weight: bold\">sc</span> <span style=\"color: #800000; text-decoration-color: #800000\">│</span>\n",
       "<span style=\"color: #800000; text-decoration-color: #800000\">│</span> <span style=\"color: #808000; text-decoration-color: #808000; font-weight: bold\">ript.py</span>:<span style=\"color: #0000ff; text-decoration-color: #0000ff\">315</span> in <span style=\"color: #00ff00; text-decoration-color: #00ff00\">shebang</span>                                                                           <span style=\"color: #800000; text-decoration-color: #800000\">│</span>\n",
       "<span style=\"color: #800000; text-decoration-color: #800000\">│</span>                                                                                                  <span style=\"color: #800000; text-decoration-color: #800000\">│</span>\n",
       "<span style=\"color: #800000; text-decoration-color: #800000\">│</span>   <span style=\"color: #7f7f7f; text-decoration-color: #7f7f7f\">312 </span><span style=\"color: #7f7f7f; text-decoration-color: #7f7f7f\">│   │   │   </span><span style=\"color: #7f7f7f; text-decoration-color: #7f7f7f\"># killed it but not yet seen its return code. We don't wait for it,</span>            <span style=\"color: #800000; text-decoration-color: #800000\">│</span>\n",
       "<span style=\"color: #800000; text-decoration-color: #800000\">│</span>   <span style=\"color: #7f7f7f; text-decoration-color: #7f7f7f\">313 </span><span style=\"color: #7f7f7f; text-decoration-color: #7f7f7f\">│   │   │   </span><span style=\"color: #7f7f7f; text-decoration-color: #7f7f7f\"># in case it's stuck in uninterruptible sleep. -9 = SIGKILL</span>                    <span style=\"color: #800000; text-decoration-color: #800000\">│</span>\n",
       "<span style=\"color: #800000; text-decoration-color: #800000\">│</span>   <span style=\"color: #7f7f7f; text-decoration-color: #7f7f7f\">314 </span><span style=\"color: #7f7f7f; text-decoration-color: #7f7f7f\">│   │   │   </span>rc = p.returncode <span style=\"color: #ff00ff; text-decoration-color: #ff00ff\">or</span> -<span style=\"color: #0000ff; text-decoration-color: #0000ff\">9</span>                                                        <span style=\"color: #800000; text-decoration-color: #800000\">│</span>\n",
       "<span style=\"color: #800000; text-decoration-color: #800000\">│</span> <span style=\"color: #800000; text-decoration-color: #800000\">❱ </span>315 <span style=\"color: #7f7f7f; text-decoration-color: #7f7f7f\">│   │   │   </span><span style=\"color: #0000ff; text-decoration-color: #0000ff; font-weight: bold; text-decoration: underline\">raise</span><span style=\"font-weight: bold; text-decoration: underline\"> CalledProcessError(rc, cell)</span>                                             <span style=\"color: #800000; text-decoration-color: #800000\">│</span>\n",
       "<span style=\"color: #800000; text-decoration-color: #800000\">│</span>   <span style=\"color: #7f7f7f; text-decoration-color: #7f7f7f\">316 </span><span style=\"color: #7f7f7f; text-decoration-color: #7f7f7f\">│   </span>                                                                                       <span style=\"color: #800000; text-decoration-color: #800000\">│</span>\n",
       "<span style=\"color: #800000; text-decoration-color: #800000\">│</span>   <span style=\"color: #7f7f7f; text-decoration-color: #7f7f7f\">317 </span><span style=\"color: #7f7f7f; text-decoration-color: #7f7f7f\">│   </span>shebang.__skip_doctest__ = os.name != <span style=\"color: #808000; text-decoration-color: #808000\">\"posix\"</span>                                          <span style=\"color: #800000; text-decoration-color: #800000\">│</span>\n",
       "<span style=\"color: #800000; text-decoration-color: #800000\">│</span>   <span style=\"color: #7f7f7f; text-decoration-color: #7f7f7f\">318 </span>                                                                                           <span style=\"color: #800000; text-decoration-color: #800000\">│</span>\n",
       "<span style=\"color: #800000; text-decoration-color: #800000\">╰──────────────────────────────────────────────────────────────────────────────────────────────────╯</span>\n",
       "<span style=\"color: #ff0000; text-decoration-color: #ff0000; font-weight: bold\">CalledProcessError: </span>Command <span style=\"color: #008000; text-decoration-color: #008000\">'b'</span>emle-analyze --qm-xyz qm.xyz \\\\\\n             --pc-xyz pc.xyz \\\\\\n             \n",
       "--orca-tarball generic.tar \\\\\\n             --backend torchani analyze_generic.mat\\n'' returned non-zero exit \n",
       "status <span style=\"color: #008080; text-decoration-color: #008080; font-weight: bold\">2</span>.\n",
       "</pre>\n"
      ],
      "text/plain": [
       "\u001b[31m╭─\u001b[0m\u001b[31m──────────────────────────────\u001b[0m\u001b[31m \u001b[0m\u001b[1;31mTraceback \u001b[0m\u001b[1;2;31m(most recent call last)\u001b[0m\u001b[31m \u001b[0m\u001b[31m───────────────────────────────\u001b[0m\u001b[31m─╮\u001b[0m\n",
       "\u001b[31m│\u001b[0m in \u001b[92m<module>\u001b[0m:\u001b[94m1\u001b[0m                                                                                    \u001b[31m│\u001b[0m\n",
       "\u001b[31m│\u001b[0m                                                                                                  \u001b[31m│\u001b[0m\n",
       "\u001b[31m│\u001b[0m \u001b[31m❱ \u001b[0m1 \u001b[1;4mget_ipython().run_cell_magic(\u001b[0m\u001b[1;4;33m'\u001b[0m\u001b[1;4;33mbash\u001b[0m\u001b[1;4;33m'\u001b[0m\u001b[1;4m, \u001b[0m\u001b[1;4;33m'\u001b[0m\u001b[1;4;33m'\u001b[0m\u001b[1;4m, \u001b[0m\u001b[1;4;33m'\u001b[0m\u001b[1;4;33memle-analyze --qm-xyz qm.xyz \u001b[0m\u001b[1;4;33m\\\\\u001b[0m\u001b[1;4;33m\\n\u001b[0m\u001b[1;4;33m             \u001b[0m     \u001b[31m│\u001b[0m\n",
       "\u001b[31m│\u001b[0m   \u001b[2m2 \u001b[0m                                                                                             \u001b[31m│\u001b[0m\n",
       "\u001b[31m│\u001b[0m                                                                                                  \u001b[31m│\u001b[0m\n",
       "\u001b[31m│\u001b[0m \u001b[2;33m/home/elliot/mambaforge/envs/emle-train-sire/lib/python3.12/site-packages/IPython/core/\u001b[0m\u001b[1;33minteracti\u001b[0m \u001b[31m│\u001b[0m\n",
       "\u001b[31m│\u001b[0m \u001b[1;33mveshell.py\u001b[0m:\u001b[94m2541\u001b[0m in \u001b[92mrun_cell_magic\u001b[0m                                                                \u001b[31m│\u001b[0m\n",
       "\u001b[31m│\u001b[0m                                                                                                  \u001b[31m│\u001b[0m\n",
       "\u001b[31m│\u001b[0m   \u001b[2m2538 \u001b[0m\u001b[2m│   │   │   \u001b[0m                                                                              \u001b[31m│\u001b[0m\n",
       "\u001b[31m│\u001b[0m   \u001b[2m2539 \u001b[0m\u001b[2m│   │   │   \u001b[0m\u001b[94mwith\u001b[0m \u001b[96mself\u001b[0m.builtin_trap:                                                       \u001b[31m│\u001b[0m\n",
       "\u001b[31m│\u001b[0m   \u001b[2m2540 \u001b[0m\u001b[2m│   │   │   │   \u001b[0margs = (magic_arg_s, cell)                                                \u001b[31m│\u001b[0m\n",
       "\u001b[31m│\u001b[0m \u001b[31m❱ \u001b[0m2541 \u001b[2m│   │   │   │   \u001b[0mresult = \u001b[1;4mfn(*args, **kwargs)\u001b[0m                                              \u001b[31m│\u001b[0m\n",
       "\u001b[31m│\u001b[0m   \u001b[2m2542 \u001b[0m\u001b[2m│   │   │   \u001b[0m                                                                              \u001b[31m│\u001b[0m\n",
       "\u001b[31m│\u001b[0m   \u001b[2m2543 \u001b[0m\u001b[2m│   │   │   \u001b[0m\u001b[2m# The code below prevents the output from being displayed\u001b[0m                     \u001b[31m│\u001b[0m\n",
       "\u001b[31m│\u001b[0m   \u001b[2m2544 \u001b[0m\u001b[2m│   │   │   \u001b[0m\u001b[2m# when using magics with decorator @output_can_be_silenced\u001b[0m                    \u001b[31m│\u001b[0m\n",
       "\u001b[31m│\u001b[0m                                                                                                  \u001b[31m│\u001b[0m\n",
       "\u001b[31m│\u001b[0m \u001b[2;33m/home/elliot/mambaforge/envs/emle-train-sire/lib/python3.12/site-packages/IPython/core/magics/\u001b[0m\u001b[1;33msc\u001b[0m \u001b[31m│\u001b[0m\n",
       "\u001b[31m│\u001b[0m \u001b[1;33mript.py\u001b[0m:\u001b[94m155\u001b[0m in \u001b[92mnamed_script_magic\u001b[0m                                                                \u001b[31m│\u001b[0m\n",
       "\u001b[31m│\u001b[0m                                                                                                  \u001b[31m│\u001b[0m\n",
       "\u001b[31m│\u001b[0m   \u001b[2m152 \u001b[0m\u001b[2m│   │   │   │   \u001b[0mline = \u001b[33m\"\u001b[0m\u001b[33m%s\u001b[0m\u001b[33m \u001b[0m\u001b[33m%s\u001b[0m\u001b[33m\"\u001b[0m % (script, line)                                            \u001b[31m│\u001b[0m\n",
       "\u001b[31m│\u001b[0m   \u001b[2m153 \u001b[0m\u001b[2m│   │   │   \u001b[0m\u001b[94melse\u001b[0m:                                                                          \u001b[31m│\u001b[0m\n",
       "\u001b[31m│\u001b[0m   \u001b[2m154 \u001b[0m\u001b[2m│   │   │   │   \u001b[0mline = script                                                              \u001b[31m│\u001b[0m\n",
       "\u001b[31m│\u001b[0m \u001b[31m❱ \u001b[0m155 \u001b[2m│   │   │   \u001b[0m\u001b[94mreturn\u001b[0m \u001b[1;4;96mself\u001b[0m\u001b[1;4m.shebang(line, cell)\u001b[0m                                                \u001b[31m│\u001b[0m\n",
       "\u001b[31m│\u001b[0m   \u001b[2m156 \u001b[0m\u001b[2m│   │   \u001b[0m                                                                                   \u001b[31m│\u001b[0m\n",
       "\u001b[31m│\u001b[0m   \u001b[2m157 \u001b[0m\u001b[2m│   │   \u001b[0m\u001b[2m# write a basic docstring:\u001b[0m                                                         \u001b[31m│\u001b[0m\n",
       "\u001b[31m│\u001b[0m   \u001b[2m158 \u001b[0m\u001b[2m│   │   \u001b[0mnamed_script_magic.\u001b[91m__doc__\u001b[0m = \\                                                     \u001b[31m│\u001b[0m\n",
       "\u001b[31m│\u001b[0m                                                                                                  \u001b[31m│\u001b[0m\n",
       "\u001b[31m│\u001b[0m \u001b[2;33m/home/elliot/mambaforge/envs/emle-train-sire/lib/python3.12/site-packages/IPython/core/magics/\u001b[0m\u001b[1;33msc\u001b[0m \u001b[31m│\u001b[0m\n",
       "\u001b[31m│\u001b[0m \u001b[1;33mript.py\u001b[0m:\u001b[94m315\u001b[0m in \u001b[92mshebang\u001b[0m                                                                           \u001b[31m│\u001b[0m\n",
       "\u001b[31m│\u001b[0m                                                                                                  \u001b[31m│\u001b[0m\n",
       "\u001b[31m│\u001b[0m   \u001b[2m312 \u001b[0m\u001b[2m│   │   │   \u001b[0m\u001b[2m# killed it but not yet seen its return code. We don't wait for it,\u001b[0m            \u001b[31m│\u001b[0m\n",
       "\u001b[31m│\u001b[0m   \u001b[2m313 \u001b[0m\u001b[2m│   │   │   \u001b[0m\u001b[2m# in case it's stuck in uninterruptible sleep. -9 = SIGKILL\u001b[0m                    \u001b[31m│\u001b[0m\n",
       "\u001b[31m│\u001b[0m   \u001b[2m314 \u001b[0m\u001b[2m│   │   │   \u001b[0mrc = p.returncode \u001b[95mor\u001b[0m -\u001b[94m9\u001b[0m                                                        \u001b[31m│\u001b[0m\n",
       "\u001b[31m│\u001b[0m \u001b[31m❱ \u001b[0m315 \u001b[2m│   │   │   \u001b[0m\u001b[1;4;94mraise\u001b[0m\u001b[1;4m CalledProcessError(rc, cell)\u001b[0m                                             \u001b[31m│\u001b[0m\n",
       "\u001b[31m│\u001b[0m   \u001b[2m316 \u001b[0m\u001b[2m│   \u001b[0m                                                                                       \u001b[31m│\u001b[0m\n",
       "\u001b[31m│\u001b[0m   \u001b[2m317 \u001b[0m\u001b[2m│   \u001b[0mshebang.__skip_doctest__ = os.name != \u001b[33m\"\u001b[0m\u001b[33mposix\u001b[0m\u001b[33m\"\u001b[0m                                          \u001b[31m│\u001b[0m\n",
       "\u001b[31m│\u001b[0m   \u001b[2m318 \u001b[0m                                                                                           \u001b[31m│\u001b[0m\n",
       "\u001b[31m╰──────────────────────────────────────────────────────────────────────────────────────────────────╯\u001b[0m\n",
       "\u001b[1;91mCalledProcessError: \u001b[0mCommand \u001b[32m'b'\u001b[0memle-analyze --qm-xyz qm.xyz \\\\\\n             --pc-xyz pc.xyz \\\\\\n             \n",
       "--orca-tarball generic.tar \\\\\\n             --backend torchani analyze_generic.mat\\n'' returned non-zero exit \n",
       "status \u001b[1;36m2\u001b[0m.\n"
      ]
     },
     "metadata": {},
     "output_type": "display_data"
    }
   ],
   "source": [
    "%%bash\n",
    "emle-analyze --qm-xyz qm.xyz \\\n",
    "             --pc-xyz pc.xyz \\\n",
    "             --emle-model emle_qm7_new_ivm0.1.mat \\\n",
    "             --orca-tarball generic.tar \\\n",
    "             --backend torchani analyze_generic.mat"
   ]
  },
  {
   "cell_type": "code",
   "execution_count": null,
   "id": "de1a382b-4368-4e27-a9aa-5e08f1330d9d",
   "metadata": {},
   "outputs": [],
   "source": [
    "free_generic = scipy.io.loadmat('analyze_generic.mat', squeeze_me=True)\n"
   ]
  },
  {
   "cell_type": "code",
   "execution_count": null,
   "id": "08d8ad58-2c91-4767-a731-1219db6cf6fa",
   "metadata": {},
   "outputs": [],
   "source": [
    "def get_rmse(a, b):\n",
    "    return np.sqrt(np.mean((a-b)**2))\n",
    "\n",
    "def get_static_rmse(data):\n",
    "    return get_rmse(data['E_static_qm'], data['E_static_emle'])\n",
    "\n",
    "def get_induced_rmse(data):\n",
    "    return get_rmse(data['E_induced_qm'], data['E_induced_emle'])\n",
    "\n",
    "def get_total_rmse(data):\n",
    "    return get_rmse(data['E_static_qm'] + data['E_induced_qm'], data['E_static_emle'] + data['E_induced_emle'])\n",
    "\n",
    "def get_errors(data):\n",
    "    static = get_static_rmse(data)\n",
    "    induced = get_induced_rmse(data)\n",
    "    total = get_total_rmse(data)\n",
    "    print(f'static: {static:5.3f} induced: {induced:5.3f} total: {total:5.3f} ')"
   ]
  },
  {
   "cell_type": "code",
   "execution_count": null,
   "id": "d18f8507-95e7-4bb6-bce7-efdfc86eb20e",
   "metadata": {},
   "outputs": [],
   "source": [
    "get_errors(free_generic)\n"
   ]
  },
  {
   "cell_type": "markdown",
   "id": "d665691b-53bc-4f68-afc9-abbd637b72ad",
   "metadata": {},
   "source": [
    "# ADP dihedral angles\n",
    "\n",
    "Here you can see how to perform a simulation of the ADP with a biasing potential on the dihedral angles (for example for umbrella sampling)"
   ]
  },
  {
   "cell_type": "code",
   "execution_count": null,
   "id": "01f586a1-f3f7-4266-a86c-6f9aa6c825fc",
   "metadata": {},
   "outputs": [],
   "source": [
    "import math\n",
    "import os\n",
    "import sys\n",
    "\n",
    "import numpy as np\n",
    "import scipy.io\n",
    "import matplotlib.pyplot as plt\n",
    "\n",
    "import openmm\n",
    "import openmm.unit as unit\n",
    "from openmm.app import *\n",
    "from openmm import CustomBondForce, CustomCVForce\n",
    "\n",
    "from emle.calculator import EMLECalculator\n",
    "\n",
    "import sire as sr\n",
    "\n",
    "# Load the ADP system for Sire\n",
    "mols = sr.load_test_files(\"ala.crd\", \"ala.top\")\n",
    "# Load the topology for OpenMM too\n",
    "prm = AmberPrmtopFile(f\"ala.top\")\n",
    "\n",
    "# Umbrella force constants for psi and phi.\n",
    "k_psi = 100\n",
    "k_phi = 100\n",
    "\n",
    "# Add harmonic biasing potentials on two dihedrals of dialanine (psi, phi)\n",
    "# in the OpenMM system for dihedral psi.\n",
    "bias_torsion_psi = openmm.CustomTorsionForce(\n",
    "    \"0.5*k_psi*dtheta^2; dtheta = min(tmp, 2*pi-tmp); tmp = abs(theta - psi)\"\n",
    ")\n",
    "bias_torsion_psi.addGlobalParameter(\"pi\", math.pi)\n",
    "bias_torsion_psi.addGlobalParameter(\"k_psi\", 1.0)\n",
    "bias_torsion_psi.addGlobalParameter(\"psi\", 0.0)\n",
    "# 4, 6, 8, 14 are indices of the atoms of the torsion psi.\n",
    "bias_torsion_psi.addTorsion(4, 6, 8, 14)\n",
    "\n",
    "# For dihedral phi.\n",
    "bias_torsion_phi = openmm.CustomTorsionForce(\n",
    "    \"0.5*k_phi*dtheta^2; dtheta = min(tmp, 2*pi-tmp); tmp = abs(theta - phi)\"\n",
    ")\n",
    "bias_torsion_phi.addGlobalParameter(\"pi\", math.pi)\n",
    "bias_torsion_phi.addGlobalParameter(\"k_phi\", 1.0)\n",
    "bias_torsion_phi.addGlobalParameter(\"phi\", 0.0)\n",
    "# 6, 8, 14, 16 are indices of the atoms of the torsion phi.\n",
    "bias_torsion_phi.addTorsion(6, 8, 14, 16)\n",
    "\n",
    "calculator = EMLECalculator(device=\"cpu\")\n",
    "qm_mols, engine = sr.qm.emle(mols, mols[0], calculator)"
   ]
  }
 ],
 "metadata": {
  "kernelspec": {
   "display_name": "mlmm-workshop",
   "language": "python",
   "name": "mlmm-workshop"
  },
  "language_info": {
   "codemirror_mode": {
    "name": "ipython",
    "version": 3
   },
   "file_extension": ".py",
   "mimetype": "text/x-python",
   "name": "python",
   "nbconvert_exporter": "python",
   "pygments_lexer": "ipython3",
   "version": "3.12.8"
  }
 },
 "nbformat": 4,
 "nbformat_minor": 5
}
